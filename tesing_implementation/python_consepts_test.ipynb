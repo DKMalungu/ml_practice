{
 "cells": [
  {
   "cell_type": "code",
   "execution_count": 40,
   "metadata": {
    "collapsed": true
   },
   "outputs": [
    {
     "data": {
      "text/plain": "(5, 3)"
     },
     "execution_count": 40,
     "metadata": {},
     "output_type": "execute_result"
    }
   ],
   "source": [
    "# Variable Question\n",
    "def test_a(A, B):\n",
    "    a = A\n",
    "    b = B\n",
    "\n",
    "    temp_a = a\n",
    "    temp_b = b\n",
    "\n",
    "    a = temp_b\n",
    "    b = temp_a\n",
    "\n",
    "    return (a, b)\n",
    "\n",
    "test_a(3, 5)"
   ]
  },
  {
   "cell_type": "code",
   "execution_count": 41,
   "outputs": [
    {
     "data": {
      "text/plain": "[78, 43, 14]"
     },
     "execution_count": 41,
     "metadata": {},
     "output_type": "execute_result"
    }
   ],
   "source": [
    "# Lists Question\n",
    "def top_three(scores: list):\n",
    "    top_scores = []\n",
    "    scores.sort(reverse=True)\n",
    "    values = [scores[0], scores[1], scores[2]]\n",
    "    top_scores.extend(values)\n",
    "    return top_scores\n",
    "\n",
    "scores_list = [43, 12, 6, 78, 2, 14]\n",
    "top_three(scores=scores_list)"
   ],
   "metadata": {
    "collapsed": false,
    "pycharm": {
     "name": "#%%\n"
    }
   }
  },
  {
   "cell_type": "code",
   "execution_count": 42,
   "outputs": [],
   "source": [
    "# DataFrame and series\n",
    "import pandas as pd\n",
    "import numpy as np\n",
    "file_path = \"data/lsd_math_score_data.csv\"\n",
    "data = pd.read_csv(file_path)"
   ],
   "metadata": {
    "collapsed": false,
    "pycharm": {
     "name": "#%%\n"
    }
   }
  },
  {
   "cell_type": "code",
   "execution_count": 43,
   "outputs": [
    {
     "data": {
      "text/plain": "   Time_Delay_in_Minutes  LSD_ppm  Avg_Math_Test_Score\n2                     30     3.26                67.47\n3                     60     4.69                37.47\n0                      5     1.17                78.93\n5                    240     6.00                32.92\n4                    120     5.83                45.65\n6                    480     6.41                29.97\n1                     15     2.97                58.20",
      "text/html": "<div>\n<style scoped>\n    .dataframe tbody tr th:only-of-type {\n        vertical-align: middle;\n    }\n\n    .dataframe tbody tr th {\n        vertical-align: top;\n    }\n\n    .dataframe thead th {\n        text-align: right;\n    }\n</style>\n<table border=\"1\" class=\"dataframe\">\n  <thead>\n    <tr style=\"text-align: right;\">\n      <th></th>\n      <th>Time_Delay_in_Minutes</th>\n      <th>LSD_ppm</th>\n      <th>Avg_Math_Test_Score</th>\n    </tr>\n  </thead>\n  <tbody>\n    <tr>\n      <th>2</th>\n      <td>30</td>\n      <td>3.26</td>\n      <td>67.47</td>\n    </tr>\n    <tr>\n      <th>3</th>\n      <td>60</td>\n      <td>4.69</td>\n      <td>37.47</td>\n    </tr>\n    <tr>\n      <th>0</th>\n      <td>5</td>\n      <td>1.17</td>\n      <td>78.93</td>\n    </tr>\n    <tr>\n      <th>5</th>\n      <td>240</td>\n      <td>6.00</td>\n      <td>32.92</td>\n    </tr>\n    <tr>\n      <th>4</th>\n      <td>120</td>\n      <td>5.83</td>\n      <td>45.65</td>\n    </tr>\n    <tr>\n      <th>6</th>\n      <td>480</td>\n      <td>6.41</td>\n      <td>29.97</td>\n    </tr>\n    <tr>\n      <th>1</th>\n      <td>15</td>\n      <td>2.97</td>\n      <td>58.20</td>\n    </tr>\n  </tbody>\n</table>\n</div>"
     },
     "execution_count": 43,
     "metadata": {},
     "output_type": "execute_result"
    }
   ],
   "source": [
    "data.sample(n=7)"
   ],
   "metadata": {
    "collapsed": false,
    "pycharm": {
     "name": "#%%\n"
    }
   }
  },
  {
   "cell_type": "code",
   "execution_count": 44,
   "outputs": [
    {
     "name": "stdout",
     "output_type": "stream",
     "text": [
      "Data variable type:  <class 'pandas.core.frame.DataFrame'>\n",
      "\n",
      "Column data types:  Time_Delay_in_Minutes      int64\n",
      "LSD_ppm                  float64\n",
      "Avg_Math_Test_Score      float64\n",
      "dtype: object\n"
     ]
    }
   ],
   "source": [
    "# data variable type\n",
    "print(\"Data variable type: \",type(data))\n",
    "print(\"\\nColumn data types: \", data.dtypes)"
   ],
   "metadata": {
    "collapsed": false,
    "pycharm": {
     "name": "#%%\n"
    }
   }
  },
  {
   "cell_type": "code",
   "execution_count": 45,
   "outputs": [
    {
     "name": "stdout",
     "output_type": "stream",
     "text": [
      "   Time_Delay_in_Minutes  LSD_ppm  Avg_Math_Test_Score  duplicate_lsd_ppm\n",
      "0                      5     1.17                78.93               1.17\n",
      "1                     15     2.97                58.20               2.97\n",
      "2                     30     3.26                67.47               3.26\n",
      "3                     60     4.69                37.47               4.69\n",
      "4                    120     5.83                45.65               5.83\n",
      "5                    240     6.00                32.92               6.00\n",
      "6                    480     6.41                29.97               6.41\n",
      "   Time_Delay_in_Minutes  LSD_ppm  Avg_Math_Test_Score  duplicate_lsd_ppm  \\\n",
      "0                      5     1.17                78.93               1.17   \n",
      "1                     15     2.97                58.20               2.97   \n",
      "2                     30     3.26                67.47               3.26   \n",
      "3                     60     4.69                37.47               4.69   \n",
      "4                    120     5.83                45.65               5.83   \n",
      "5                    240     6.00                32.92               6.00   \n",
      "6                    480     6.41                29.97               6.41   \n",
      "\n",
      "   high_score  \n",
      "0      178.93  \n",
      "1      158.20  \n",
      "2      167.47  \n",
      "3      137.47  \n",
      "4      145.65  \n",
      "5      132.92  \n",
      "6      129.97  \n",
      "   Time_Delay_in_Minutes  LSD_ppm  Avg_Math_Test_Score  duplicate_lsd_ppm  \\\n",
      "0                      5     1.17                78.93               1.17   \n",
      "1                     15     2.97                58.20               2.97   \n",
      "2                     30     3.26                67.47               3.26   \n",
      "3                     60     4.69                37.47               4.69   \n",
      "4                    120     5.83                45.65               5.83   \n",
      "5                    240     6.00                32.92               6.00   \n",
      "6                    480     6.41                29.97               6.41   \n",
      "\n",
      "   high_score  \n",
      "0  32015.9449  \n",
      "1  25027.2400  \n",
      "2  28046.2009  \n",
      "3  18898.0009  \n",
      "4  21213.9225  \n",
      "5  17667.7264  \n",
      "6  16892.2009  \n"
     ]
    }
   ],
   "source": [
    "# Adding a column to a DataFrame\n",
    "data[\"duplicate_lsd_ppm\"] = data['LSD_ppm']\n",
    "print(data)\n",
    "data[\"high_score\"] = 100\n",
    "data[\"high_score\"] = data[\"high_score\"] + data[\"Avg_Math_Test_Score\"]\n",
    "print(data)\n",
    "data[\"high_score\"] = data[\"high_score\"]**2\n",
    "print(data)"
   ],
   "metadata": {
    "collapsed": false,
    "pycharm": {
     "name": "#%%\n"
    }
   }
  },
  {
   "cell_type": "code",
   "execution_count": 46,
   "outputs": [
    {
     "data": {
      "text/plain": "pandas.core.series.Series"
     },
     "execution_count": 46,
     "metadata": {},
     "output_type": "execute_result"
    }
   ],
   "source": [
    "# Gettting the type of a single column\n",
    "type(data['high_score'])"
   ],
   "metadata": {
    "collapsed": false,
    "pycharm": {
     "name": "#%%\n"
    }
   }
  },
  {
   "cell_type": "code",
   "execution_count": 47,
   "outputs": [
    {
     "name": "stdout",
     "output_type": "stream",
     "text": [
      "   LSD_ppm  Avg_Math_Test_Score\n",
      "0     1.17                78.93\n",
      "1     2.97                58.20\n",
      "2     3.26                67.47\n",
      "3     4.69                37.47\n",
      "4     5.83                45.65\n",
      "5     6.00                32.92\n",
      "6     6.41                29.97\n"
     ]
    }
   ],
   "source": [
    "column_list = [\"LSD_ppm\", \"Avg_Math_Test_Score\"]\n",
    "new_dataset = pd.DataFrame(data, columns=column_list)\n",
    "print(new_dataset)"
   ],
   "metadata": {
    "collapsed": false,
    "pycharm": {
     "name": "#%% Creating subset of the dataset\n"
    }
   }
  },
  {
   "cell_type": "code",
   "execution_count": 48,
   "outputs": [
    {
     "name": "stdout",
     "output_type": "stream",
     "text": [
      "<class 'pandas.core.frame.DataFrame'>\n",
      "   LSD_ppm\n",
      "0     1.17\n",
      "1     2.97\n",
      "2     3.26\n",
      "3     4.69\n",
      "4     5.83\n",
      "5     6.00\n",
      "6     6.41\n"
     ]
    }
   ],
   "source": [
    "# Dependent variable (Target)\n",
    "y = pd.DataFrame(data=data, columns=['Avg_Math_Test_Score'], dtype=np.float32)\n",
    "X =  pd.DataFrame(data=data, columns=['LSD_ppm'], dtype=np.float32)\n",
    "print(type(X))\n",
    "print(X)"
   ],
   "metadata": {
    "collapsed": false,
    "pycharm": {
     "name": "#%%\n"
    }
   }
  },
  {
   "cell_type": "code",
   "execution_count": 52,
   "outputs": [
    {
     "name": "stdout",
     "output_type": "stream",
     "text": [
      "Index(['Time_Delay_in_Minutes', 'LSD_ppm', 'Avg_Math_Test_Score',\n",
      "       'duplicate_lsd_ppm'],\n",
      "      dtype='object')\n"
     ]
    }
   ],
   "source": [
    "# Deleting Column\n",
    "del data[\"high_score\"]\n",
    "print(data.columns)"
   ],
   "metadata": {
    "collapsed": false,
    "pycharm": {
     "name": "#%%\n"
    }
   }
  },
  {
   "cell_type": "code",
   "execution_count": null,
   "outputs": [],
   "source": [
    "# Convertor Square Feet to Square Meters\n",
    "def calc_square_meters_from_feet(length_ft, width_ft):\n",
    "    length_m = 0.3048 * length_ft\n",
    "    width_m = 0.3048 * width_ft\n",
    "    metric_area = length_m * width_m\n",
    "    return metric_area"
   ],
   "metadata": {
    "collapsed": false,
    "pycharm": {
     "name": "#%%\n"
    }
   }
  },
  {
   "cell_type": "code",
   "execution_count": 53,
   "outputs": [
    {
     "data": {
      "text/plain": "[1, 2, 3, 4, 5, 'a', 'c', 'b']"
     },
     "execution_count": 53,
     "metadata": {},
     "output_type": "execute_result"
    }
   ],
   "source": [
    "def concatenate_lists(list_a, list_b):\n",
    "    list_c = list_a + list_b\n",
    "    return list_c\n",
    "a = [1,2,3,4,5]\n",
    "b = ['a', 'c', 'b']\n",
    "concatenate_lists(list_a=a, list_b=b)"
   ],
   "metadata": {
    "collapsed": false,
    "pycharm": {
     "name": "#%%\n"
    }
   }
  },
  {
   "cell_type": "code",
   "execution_count": 1,
   "outputs": [
    {
     "data": {
      "text/plain": "7.946068210127573"
     },
     "execution_count": 1,
     "metadata": {},
     "output_type": "execute_result"
    }
   ],
   "source": [
    "import math\n",
    "def square_root(number: (int, float)):\n",
    "    return math.sqrt(number)\n",
    "\n",
    "square_root(63.14)"
   ],
   "metadata": {
    "collapsed": false,
    "pycharm": {
     "name": "#%%\n"
    }
   }
  }
 ],
 "metadata": {
  "kernelspec": {
   "display_name": "Python 3",
   "language": "python",
   "name": "python3"
  },
  "language_info": {
   "codemirror_mode": {
    "name": "ipython",
    "version": 2
   },
   "file_extension": ".py",
   "mimetype": "text/x-python",
   "name": "python",
   "nbconvert_exporter": "python",
   "pygments_lexer": "ipython2",
   "version": "2.7.6"
  }
 },
 "nbformat": 4,
 "nbformat_minor": 0
}